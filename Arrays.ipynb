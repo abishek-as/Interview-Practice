{
 "cells": [
  {
   "cell_type": "markdown",
   "id": "cc45503f",
   "metadata": {},
   "source": [
    "# Easy"
   ]
  },
  {
   "cell_type": "markdown",
   "id": "454c41fb",
   "metadata": {},
   "source": [
    "## Largest Element in an Array"
   ]
  },
  {
   "cell_type": "markdown",
   "id": "0eff5850",
   "metadata": {},
   "source": [
    "## Second Largest Element in an Array (without sorting)"
   ]
  },
  {
   "cell_type": "markdown",
   "id": "56139e4a",
   "metadata": {},
   "source": [
    "## Check if the array is sorted"
   ]
  },
  {
   "cell_type": "markdown",
   "id": "d6c6928a",
   "metadata": {},
   "source": [
    "## Remove Duplicates from Sorted Array"
   ]
  },
  {
   "cell_type": "markdown",
   "id": "33c8b448",
   "metadata": {},
   "source": [
    "## Left Rotate an Array by One Place"
   ]
  },
  {
   "cell_type": "markdown",
   "id": "eddf4e6e",
   "metadata": {},
   "source": [
    "## Left Rotate an Array by D Places"
   ]
  },
  {
   "cell_type": "markdown",
   "id": "2294c3c9",
   "metadata": {},
   "source": [
    "## Move Zeros to End"
   ]
  },
  {
   "cell_type": "markdown",
   "id": "4287efc0",
   "metadata": {},
   "source": [
    "## Linear Search"
   ]
  },
  {
   "cell_type": "markdown",
   "id": "6820805c",
   "metadata": {},
   "source": [
    "## Find the Union"
   ]
  },
  {
   "cell_type": "markdown",
   "id": "e62dbb6e",
   "metadata": {},
   "source": [
    "## Find Missing Number in an Array"
   ]
  },
  {
   "cell_type": "markdown",
   "id": "d85b22e3",
   "metadata": {},
   "source": [
    "## Maximum Consecutive Ones"
   ]
  },
  {
   "cell_type": "markdown",
   "id": "fd6245b2",
   "metadata": {},
   "source": [
    "## Find the Number that Appears Once (others twice)"
   ]
  },
  {
   "cell_type": "markdown",
   "id": "6608ba95",
   "metadata": {},
   "source": [
    "## Longest Subarray with Given Sum K (positives)"
   ]
  },
  {
   "cell_type": "markdown",
   "id": "ec332e60",
   "metadata": {},
   "source": [
    "## Longest Subarray with Sum K (positives + negatives)"
   ]
  },
  {
   "cell_type": "markdown",
   "id": "76d26b78",
   "metadata": {},
   "source": [
    "# Medium"
   ]
  },
  {
   "cell_type": "markdown",
   "id": "ca933f3b",
   "metadata": {},
   "source": [
    "## 2 Sum Problem"
   ]
  },
  {
   "cell_type": "markdown",
   "id": "0990879d",
   "metadata": {},
   "source": [
    "## Sort an Array of 0’s, 1’s, and 2’s"
   ]
  },
  {
   "cell_type": "markdown",
   "id": "ec00f48e",
   "metadata": {},
   "source": [
    "## Majority Element (> n/2 times)"
   ]
  },
  {
   "cell_type": "markdown",
   "id": "e5029860",
   "metadata": {},
   "source": [
    "## Kadane’s Algorithm – Maximum Subarray Sum"
   ]
  },
  {
   "cell_type": "markdown",
   "id": "523adad7",
   "metadata": {},
   "source": [
    "## Print Subarray with Maximum Subarray Sum"
   ]
  },
  {
   "cell_type": "markdown",
   "id": "3d63e66c",
   "metadata": {},
   "source": [
    "## Stock Buy and Sell"
   ]
  },
  {
   "cell_type": "markdown",
   "id": "02066d7c",
   "metadata": {},
   "source": [
    "## Rearrange Array in Alternating Positive & Negative Items"
   ]
  },
  {
   "cell_type": "markdown",
   "id": "b9f1c578",
   "metadata": {},
   "source": [
    "## Next Permutation"
   ]
  },
  {
   "cell_type": "markdown",
   "id": "459ae1b6",
   "metadata": {},
   "source": [
    "## Leaders in an Array"
   ]
  },
  {
   "cell_type": "markdown",
   "id": "83ef5c11",
   "metadata": {},
   "source": [
    "## Longest Consecutive Sequence"
   ]
  },
  {
   "cell_type": "markdown",
   "id": "6b615303",
   "metadata": {},
   "source": [
    "## Set Matrix Zeros"
   ]
  },
  {
   "cell_type": "markdown",
   "id": "bcbfaf6b",
   "metadata": {},
   "source": [
    "## Rotate Matrix by 90°"
   ]
  },
  {
   "cell_type": "markdown",
   "id": "03750739",
   "metadata": {},
   "source": [
    "## Spiral Order Matrix Traversal"
   ]
  },
  {
   "cell_type": "markdown",
   "id": "6b39efe9",
   "metadata": {},
   "source": [
    "## Count Subarrays with Given Sum"
   ]
  },
  {
   "cell_type": "markdown",
   "id": "97aba0e9",
   "metadata": {},
   "source": [
    "# Hard"
   ]
  },
  {
   "cell_type": "markdown",
   "id": "011f83fa",
   "metadata": {},
   "source": [
    "## Pascal’s Triangle"
   ]
  },
  {
   "cell_type": "markdown",
   "id": "80745fa7",
   "metadata": {},
   "source": [
    "## Majority Element (> n/3 times)"
   ]
  },
  {
   "cell_type": "markdown",
   "id": "c405bbd1",
   "metadata": {},
   "source": [
    "## 3 Sum Problem"
   ]
  },
  {
   "cell_type": "markdown",
   "id": "4c91006a",
   "metadata": {},
   "source": [
    "## 4 Sum Problem"
   ]
  },
  {
   "cell_type": "markdown",
   "id": "1064258e",
   "metadata": {},
   "source": [
    "## Largest Subarray with 0 Sum"
   ]
  },
  {
   "cell_type": "markdown",
   "id": "be17ec96",
   "metadata": {},
   "source": [
    "## Count Subarrays with XOR = K"
   ]
  },
  {
   "cell_type": "markdown",
   "id": "b630dc11",
   "metadata": {},
   "source": [
    "## Merge Overlapping Intervals"
   ]
  },
  {
   "cell_type": "markdown",
   "id": "e461345f",
   "metadata": {},
   "source": [
    "## Merge Two Sorted Arrays (without extra space)"
   ]
  },
  {
   "cell_type": "markdown",
   "id": "5f8c9559",
   "metadata": {},
   "source": [
    "## Find Repeating and Missing Number"
   ]
  },
  {
   "cell_type": "markdown",
   "id": "d8e8c637",
   "metadata": {},
   "source": [
    "## Count Inversions"
   ]
  },
  {
   "cell_type": "markdown",
   "id": "edca5686",
   "metadata": {},
   "source": [
    "## Reverse Pairs"
   ]
  },
  {
   "cell_type": "markdown",
   "id": "e17d2806",
   "metadata": {},
   "source": [
    "## Maximum Product Subarray"
   ]
  }
 ],
 "metadata": {
  "kernelspec": {
   "display_name": ".venv",
   "language": "python",
   "name": "python3"
  },
  "language_info": {
   "name": "python",
   "version": "3.13.3"
  }
 },
 "nbformat": 4,
 "nbformat_minor": 5
}
