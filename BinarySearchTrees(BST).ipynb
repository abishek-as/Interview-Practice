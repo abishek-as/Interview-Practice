{
 "cells": [
  {
   "cell_type": "markdown",
   "id": "093a3dc5",
   "metadata": {},
   "source": [
    "# BST Basics\n"
   ]
  },
  {
   "cell_type": "markdown",
   "id": "2851258e",
   "metadata": {},
   "source": [
    "# Search, Insert, Delete\n"
   ]
  },
  {
   "cell_type": "markdown",
   "id": "239293a8",
   "metadata": {},
   "source": [
    "# Min/Max, Floor/Ceil in BST\n"
   ]
  },
  {
   "cell_type": "markdown",
   "id": "d284b7c2",
   "metadata": {},
   "source": [
    "# K-th Smallest/Largest Element\n"
   ]
  },
  {
   "cell_type": "markdown",
   "id": "b2214c63",
   "metadata": {},
   "source": [
    "# Validate BST\n"
   ]
  },
  {
   "cell_type": "markdown",
   "id": "b1a62dbf",
   "metadata": {},
   "source": [
    "# LCA in BST\n"
   ]
  },
  {
   "cell_type": "markdown",
   "id": "b96ebd7d",
   "metadata": {},
   "source": [
    "# Construct BST from Preorder\n"
   ]
  },
  {
   "cell_type": "markdown",
   "id": "bcc70604",
   "metadata": {},
   "source": [
    "# Inorder Successor/Predecessor\n"
   ]
  },
  {
   "cell_type": "markdown",
   "id": "2d988d9c",
   "metadata": {},
   "source": [
    "# Merge Two BSTs\n"
   ]
  },
  {
   "cell_type": "markdown",
   "id": "d227148d",
   "metadata": {},
   "source": [
    "# Two Sum in BST\n"
   ]
  },
  {
   "cell_type": "markdown",
   "metadata": {},
   "source": [
    "# Recover Swapped BST\n"
   ]
  },
  {
   "cell_type": "markdown",
   "id": "8dabadc3",
   "metadata": {},
   "source": [
    "# Largest BST in Binary Tree"
   ]
  }
 ],
 "metadata": {
  "language_info": {
   "name": "python"
  }
 },
 "nbformat": 4,
 "nbformat_minor": 5
}
