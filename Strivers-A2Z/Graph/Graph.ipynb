{
 "cells": [
  {
   "cell_type": "code",
   "execution_count": null,
   "id": "d916c25d",
   "metadata": {},
   "outputs": [],
   "source": [
    "class Graph:\n",
    "    def __init__(self, vertices):\n",
    "        self.V = vertices\n",
    "        self.adjacency_list = []\n",
    "        for _ in range(vertices):\n",
    "            self.adjacency_list.append([])\n",
    "\n",
    "    def add_edge(self, u, v):\n",
    "        self.adjacency_list[u].append(v)\n",
    "        self.adjacency_list[v].append(u)\n",
    "\n",
    "    def bfs(self, start_vertex):\n",
    "        visited = [False] * self.V\n",
    "        queue = [0] * self.V\n",
    "        front, rear = 0, 0\n",
    "\n",
    "        visited[start_vertex] = True\n",
    "        queue[rear] = start_vertex\n",
    "        rear += 1\n",
    "\n",
    "        while front < rear:\n",
    "            current_vertex = queue[front]\n",
    "            front += 1\n",
    "            print(current_vertex, end=\" \")\n",
    "            for neighbour in self.adjacency_list[current_vertex]:\n",
    "                if visited[neighbour] is False:\n",
    "                    visited[neighbour] = True\n",
    "                    queue[rear] = neighbour\n",
    "                    rear += 1\n",
    "    \n",
    "    def bfs_short(self, start_vertex):\n",
    "        visited = set()\n",
    "        queue = []"
   ]
  },
  {
   "cell_type": "code",
   "execution_count": 10,
   "id": "dd0c38d9",
   "metadata": {},
   "outputs": [
    {
     "name": "stdout",
     "output_type": "stream",
     "text": [
      "0 1 2 3 4 5 "
     ]
    }
   ],
   "source": [
    "g = Graph(6)\n",
    "g.add_edge(0, 1)\n",
    "g.add_edge(0, 2)\n",
    "g.add_edge(1, 3)\n",
    "g.add_edge(1, 4)\n",
    "g.add_edge(2, 5)\n",
    "g.add_edge(4, 5)\n",
    "\n",
    "g.bfs(0)"
   ]
  }
 ],
 "metadata": {
  "kernelspec": {
   "display_name": ".venv",
   "language": "python",
   "name": "python3"
  },
  "language_info": {
   "codemirror_mode": {
    "name": "ipython",
    "version": 3
   },
   "file_extension": ".py",
   "mimetype": "text/x-python",
   "name": "python",
   "nbconvert_exporter": "python",
   "pygments_lexer": "ipython3",
   "version": "3.13.3"
  }
 },
 "nbformat": 4,
 "nbformat_minor": 5
}
