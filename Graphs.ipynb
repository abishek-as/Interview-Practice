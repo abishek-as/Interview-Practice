{
 "cells": [
  {
   "cell_type": "markdown",
   "id": "99bc5c76",
   "metadata": {},
   "source": [
    "# Learning"
   ]
  },
  {
   "cell_type": "markdown",
   "id": "9ad238cd",
   "metadata": {},
   "source": [
    "## Graph Types and Representations\n"
   ]
  },
  {
   "cell_type": "markdown",
   "id": "cde09229",
   "metadata": {},
   "source": [
    "## Connected Components\n"
   ]
  },
  {
   "cell_type": "markdown",
   "id": "bf6c9bf4",
   "metadata": {},
   "source": [
    "## BFS/DFS"
   ]
  },
  {
   "cell_type": "markdown",
   "id": "5a8e185a",
   "metadata": {},
   "source": [
    "# BFS / DFS - Problems"
   ]
  },
  {
   "cell_type": "markdown",
   "id": "b3f388e0",
   "metadata": {},
   "source": [
    "## Number of Provinces\n"
   ]
  },
  {
   "cell_type": "markdown",
   "id": "9585b506",
   "metadata": {},
   "source": [
    "## Matrix Connected Components\n"
   ]
  },
  {
   "cell_type": "markdown",
   "id": "713dbbf8",
   "metadata": {},
   "source": [
    "## Rotten Oranges\n"
   ]
  },
  {
   "cell_type": "markdown",
   "id": "83970f52",
   "metadata": {},
   "source": [
    "## Flood Fill\n"
   ]
  },
  {
   "cell_type": "markdown",
   "id": "110d9106",
   "metadata": {},
   "source": [
    "## Cycle Detection (Undirected - BFS/DFS)\n"
   ]
  },
  {
   "cell_type": "markdown",
   "id": "1d0c7f59",
   "metadata": {},
   "source": [
    "## 0/1 Matrix\n"
   ]
  },
  {
   "cell_type": "markdown",
   "id": "2d46f850",
   "metadata": {},
   "source": [
    "## Surrounded Regions\n"
   ]
  },
  {
   "cell_type": "markdown",
   "id": "087bc27b",
   "metadata": {},
   "source": [
    "## Number of Enclaves\n"
   ]
  },
  {
   "cell_type": "markdown",
   "id": "525bb90b",
   "metadata": {},
   "source": [
    "## Word Ladder I & II\n"
   ]
  },
  {
   "cell_type": "markdown",
   "id": "be17ffbc",
   "metadata": {},
   "source": [
    "## Number of Distinct Islands\n"
   ]
  },
  {
   "cell_type": "markdown",
   "id": "2c3eb8fd",
   "metadata": {},
   "source": [
    "## Bipartite Check (DFS)\n"
   ]
  },
  {
   "cell_type": "markdown",
   "id": "c3c3f80c",
   "metadata": {},
   "source": [
    "## Cycle Detection (Directed - DFS)"
   ]
  },
  {
   "cell_type": "markdown",
   "id": "ea1bf03d",
   "metadata": {},
   "source": [
    "# Topo Sort & Related"
   ]
  },
  {
   "cell_type": "markdown",
   "id": "82db6beb",
   "metadata": {},
   "source": [
    "## Topological Sort\n"
   ]
  },
  {
   "cell_type": "markdown",
   "id": "fe693457",
   "metadata": {},
   "source": [
    "## Kahn’s Algorithm\n"
   ]
  },
  {
   "cell_type": "markdown",
   "id": "8dcadf5e",
   "metadata": {},
   "source": [
    "## Cycle Detection (Directed - BFS)\n"
   ]
  },
  {
   "cell_type": "markdown",
   "id": "71985d03",
   "metadata": {},
   "source": [
    "## Course Schedule I & II\n"
   ]
  },
  {
   "cell_type": "markdown",
   "id": "fd78760f",
   "metadata": {},
   "source": [
    "## Eventual Safe States\n"
   ]
  },
  {
   "cell_type": "markdown",
   "id": "a0bf83f9",
   "metadata": {},
   "source": [
    "## Alien Dictionary"
   ]
  },
  {
   "cell_type": "markdown",
   "id": "ea1d4451",
   "metadata": {},
   "source": [
    "# Shortest Path Algorithms"
   ]
  },
  {
   "cell_type": "markdown",
   "id": "664c840d",
   "metadata": {},
   "source": [
    "## Shortest Path in UG with Unit Weights\n"
   ]
  },
  {
   "cell_type": "markdown",
   "id": "2dc7b9e9",
   "metadata": {},
   "source": [
    "## Shortest Path in DAG\n"
   ]
  },
  {
   "cell_type": "markdown",
   "id": "60169f7b",
   "metadata": {},
   "source": [
    "## Dijkstra’s Algorithm\n"
   ]
  },
  {
   "cell_type": "markdown",
   "id": "363cca7a",
   "metadata": {},
   "source": [
    "## Why Priority Queue is used in Dijkstra’s Algorithm\n"
   ]
  },
  {
   "cell_type": "markdown",
   "metadata": {},
   "source": [
    "## Shortest Path in Binary Maze\n"
   ]
  },
  {
   "cell_type": "markdown",
   "id": "fe18913c",
   "metadata": {},
   "source": [
    "## Path with Minimum Effort\n"
   ]
  },
  {
   "cell_type": "markdown",
   "id": "0f1d1dbf",
   "metadata": {},
   "source": [
    "## Cheapest Flights Within K Stops\n"
   ]
  },
  {
   "cell_type": "markdown",
   "id": "b2db7bb0",
   "metadata": {},
   "source": [
    "## Network Delay Time\n"
   ]
  },
  {
   "cell_type": "markdown",
   "id": "a8e9d2d0",
   "metadata": {},
   "source": [
    "## Number of Ways to Arrive at Destination\n"
   ]
  },
  {
   "cell_type": "markdown",
   "id": "3fff5896",
   "metadata": {},
   "source": [
    "## Min Steps to Reach End via Multiplication and Mod Operations\n"
   ]
  },
  {
   "cell_type": "markdown",
   "id": "27f79596",
   "metadata": {},
   "source": [
    "## Bellman-Ford Algorithm\n"
   ]
  },
  {
   "cell_type": "markdown",
   "id": "a388cdab",
   "metadata": {},
   "source": [
    "## Floyd-Warshall Algorithm\n"
   ]
  },
  {
   "cell_type": "markdown",
   "id": "3b15dd84",
   "metadata": {},
   "source": [
    "## Find the City with the Smallest Number of Neighbors Within **Threshold**"
   ]
  },
  {
   "cell_type": "markdown",
   "id": "7e3e858b",
   "metadata": {},
   "source": [
    "# Minimum Spanning Tree (MST) / Disjoint Set"
   ]
  },
  {
   "cell_type": "markdown",
   "id": "feee5a81",
   "metadata": {},
   "source": [
    "## Minimum Spanning Tree\n"
   ]
  },
  {
   "cell_type": "markdown",
   "id": "d47badfe",
   "metadata": {},
   "source": [
    "## Prim’s Algorithm\n"
   ]
  },
  {
   "cell_type": "markdown",
   "metadata": {},
   "source": [
    "## Disjoint Set (Union by Rank)\n"
   ]
  },
  {
   "cell_type": "markdown",
   "id": "54735bfb",
   "metadata": {},
   "source": [
    "## Disjoint Set (Union by Size)\n"
   ]
  },
  {
   "cell_type": "markdown",
   "id": "cfe2c20b",
   "metadata": {},
   "source": [
    "## Kruskal’s Algorithm\n"
   ]
  },
  {
   "cell_type": "markdown",
   "id": "5ed808e7",
   "metadata": {},
   "source": [
    "## Number of Operations to Make Network Connected\n"
   ]
  },
  {
   "cell_type": "markdown",
   "metadata": {},
   "source": [
    "## Most Stones Removed with Same Row/Column\n"
   ]
  },
  {
   "cell_type": "markdown",
   "id": "cb9a2276",
   "metadata": {},
   "source": [
    "## Accounts Merge\n"
   ]
  },
  {
   "cell_type": "markdown",
   "id": "721a25f7",
   "metadata": {},
   "source": [
    "## Number of Islands II\n"
   ]
  },
  {
   "cell_type": "markdown",
   "id": "7041fd07",
   "metadata": {},
   "source": [
    "## Making a Large Island\n"
   ]
  },
  {
   "cell_type": "markdown",
   "id": "019bdb1e",
   "metadata": {},
   "source": [
    "## Swim in Rising **Water**"
   ]
  },
  {
   "cell_type": "markdown",
   "id": "87add624",
   "metadata": {},
   "source": [
    "# Advanced Graph Algorithms"
   ]
  },
  {
   "cell_type": "markdown",
   "metadata": {},
   "source": [
    "## Bridges in Graph\n"
   ]
  },
  {
   "cell_type": "markdown",
   "id": "e6b33901",
   "metadata": {},
   "source": [
    "## Articulation Points\n"
   ]
  },
  {
   "cell_type": "markdown",
   "id": "252ea9c5",
   "metadata": {},
   "source": [
    "## Kosaraju’s Algorithm (SCC)"
   ]
  }
 ],
 "metadata": {
  "language_info": {
   "name": "python"
  }
 },
 "nbformat": 4,
 "nbformat_minor": 5
}
