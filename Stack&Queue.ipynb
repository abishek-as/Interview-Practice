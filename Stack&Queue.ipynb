{
 "cells": [
  {
   "cell_type": "markdown",
   "id": "e234ab7f",
   "metadata": {},
   "source": [
    "# Stack/Queue Using Array"
   ]
  },
  {
   "cell_type": "markdown",
   "id": "ad194588",
   "metadata": {},
   "source": [
    "# Stack/Queue Using Linked List\n"
   ]
  },
  {
   "cell_type": "markdown",
   "id": "f5ed2c72",
   "metadata": {},
   "source": [
    "# Stack Using Queue\n"
   ]
  },
  {
   "cell_type": "markdown",
   "id": "eb146923",
   "metadata": {},
   "source": [
    "# Queue Using Stack\n"
   ]
  },
  {
   "cell_type": "markdown",
   "id": "7ace3927",
   "metadata": {},
   "source": [
    "# Check Balanced Parentheses\n"
   ]
  },
  {
   "cell_type": "markdown",
   "id": "76513a78",
   "metadata": {},
   "source": [
    "# Min Stack\n"
   ]
  },
  {
   "cell_type": "markdown",
   "id": "c5aaebf5",
   "metadata": {},
   "source": [
    "# Infix ↔ Postfix / Prefix Conversions\n"
   ]
  },
  {
   "cell_type": "markdown",
   "id": "97fc920f",
   "metadata": {},
   "source": [
    "# Next Greater/Smaller Element\n"
   ]
  },
  {
   "cell_type": "markdown",
   "metadata": {},
   "source": [
    "# NGEs to Right\n"
   ]
  },
  {
   "cell_type": "markdown",
   "id": "32ce4b44",
   "metadata": {},
   "source": [
    "# Trapping Rainwater\n"
   ]
  },
  {
   "cell_type": "markdown",
   "id": "aac31def",
   "metadata": {},
   "source": [
    "# Sum of Subarray Minimum\n"
   ]
  },
  {
   "cell_type": "markdown",
   "id": "f75d6729",
   "metadata": {},
   "source": [
    "# Asteroid Collision\n"
   ]
  },
  {
   "cell_type": "markdown",
   "id": "b0a27e0e",
   "metadata": {},
   "source": [
    "# Sum of Subarray Ranges\n"
   ]
  },
  {
   "cell_type": "markdown",
   "id": "5f34417c",
   "metadata": {},
   "source": [
    "# Remove K Digits\n"
   ]
  },
  {
   "cell_type": "markdown",
   "id": "53a3869f",
   "metadata": {},
   "source": [
    "# Largest Rectangle in Histogram\n"
   ]
  },
  {
   "cell_type": "markdown",
   "id": "4eded4b8",
   "metadata": {},
   "source": [
    "# Maximal Rectangle\n"
   ]
  },
  {
   "cell_type": "markdown",
   "id": "0646185d",
   "metadata": {},
   "source": [
    "# Sliding Window Maximum\n"
   ]
  },
  {
   "cell_type": "markdown",
   "id": "ee002716",
   "metadata": {},
   "source": [
    "# Stock Span Problem\n",
    "\n"
   ]
  },
  {
   "cell_type": "markdown",
   "id": "e636fc5c",
   "metadata": {},
   "source": [
    "# The Celebrity Problem\n"
   ]
  },
  {
   "cell_type": "markdown",
   "id": "aeb09353",
   "metadata": {},
   "source": [
    "# LRU Cache (IMPORTANT)\n"
   ]
  },
  {
   "cell_type": "markdown",
   "id": "b0bdcf99",
   "metadata": {},
   "source": [
    "# LFU Cache"
   ]
  }
 ],
 "metadata": {
  "language_info": {
   "name": "python"
  }
 },
 "nbformat": 4,
 "nbformat_minor": 5
}
