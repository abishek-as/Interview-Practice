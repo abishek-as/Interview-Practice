{
 "cells": [
  {
   "cell_type": "markdown",
   "id": "72956c55",
   "metadata": {},
   "source": [
    "# Binary Tree Basics\n"
   ]
  },
  {
   "cell_type": "markdown",
   "id": "be8bf5c4",
   "metadata": {},
   "source": [
    "# Traversals: Preorder, Inorder, Postorder\n"
   ]
  },
  {
   "cell_type": "markdown",
   "id": "a8a5a5d1",
   "metadata": {},
   "source": [
    "# Iterative Preorder/Inorder/Postorder\n"
   ]
  },
  {
   "cell_type": "markdown",
   "id": "3722635e",
   "metadata": {},
   "source": [
    "# Level Order & Spiral Order\n"
   ]
  },
  {
   "cell_type": "markdown",
   "id": "aa11317b",
   "metadata": {},
   "source": [
    "# Preorder+Inorder+Postorder in One Traversal\n"
   ]
  },
  {
   "cell_type": "markdown",
   "id": "f4b9b3c1",
   "metadata": {},
   "source": [
    "# Tree Height\n"
   ]
  },
  {
   "cell_type": "markdown",
   "id": "f9784325",
   "metadata": {},
   "source": [
    "# Is Height Balanced\n"
   ]
  },
  {
   "cell_type": "markdown",
   "id": "99d7c4bb",
   "metadata": {},
   "source": [
    "# Diameter of Tree\n"
   ]
  },
  {
   "cell_type": "markdown",
   "id": "515c4778",
   "metadata": {},
   "source": [
    "# Maximum Path Sum\n"
   ]
  },
  {
   "cell_type": "markdown",
   "id": "d325a8a7",
   "metadata": {},
   "source": [
    "# Identical Trees\n"
   ]
  },
  {
   "cell_type": "markdown",
   "id": "d3846ec4",
   "metadata": {},
   "source": [
    "# Zig-Zag, Boundary, Vertical, Top, Bottom, Left, Right Views\n"
   ]
  },
  {
   "cell_type": "markdown",
   "id": "a0b91660",
   "metadata": {},
   "source": [
    "# Symmetric Tree\n"
   ]
  },
  {
   "cell_type": "markdown",
   "id": "c71a50c6",
   "metadata": {},
   "source": [
    "# Root-to-Node Path\n"
   ]
  },
  {
   "cell_type": "markdown",
   "id": "c90ff397",
   "metadata": {},
   "source": [
    "# LCA in Binary Tree\n"
   ]
  },
  {
   "cell_type": "markdown",
   "id": "be0f20bc",
   "metadata": {},
   "source": [
    "# Max Width of Binary Tree\n"
   ]
  },
  {
   "cell_type": "markdown",
   "id": "928b0aee",
   "metadata": {},
   "source": [
    "# Children Sum Property\n"
   ]
  },
  {
   "cell_type": "markdown",
   "id": "94b97327",
   "metadata": {},
   "source": [
    "# Nodes at Distance K\n"
   ]
  },
  {
   "cell_type": "markdown",
   "id": "79a81ee6",
   "metadata": {},
   "source": [
    "# Time to Burn Binary Tree\n"
   ]
  },
  {
   "cell_type": "markdown",
   "id": "f061d766",
   "metadata": {},
   "source": [
    "# Count Nodes in Complete Binary Tree\n"
   ]
  },
  {
   "cell_type": "markdown",
   "id": "7c2cf781",
   "metadata": {},
   "source": [
    "# Construct Unique Binary Tree (Theory)\n"
   ]
  },
  {
   "cell_type": "markdown",
   "id": "4ce503c4",
   "metadata": {},
   "source": [
    "# Build Tree from Inorder & Pre/Postorder\n"
   ]
  },
  {
   "cell_type": "markdown",
   "id": "46b83034",
   "metadata": {},
   "source": [
    "# Serialize & Deserialize Binary Tree\n"
   ]
  },
  {
   "cell_type": "markdown",
   "id": "9bf878de",
   "metadata": {},
   "source": [
    "# Morris Preorder/Inorder\n"
   ]
  },
  {
   "cell_type": "markdown",
   "id": "cde92110",
   "metadata": {},
   "source": [
    "# Flatten Binary Tree to LL"
   ]
  }
 ],
 "metadata": {
  "language_info": {
   "name": "python"
  }
 },
 "nbformat": 4,
 "nbformat_minor": 5
}
