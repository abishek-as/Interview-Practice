{
 "cells": [
  {
   "cell_type": "markdown",
   "id": "682b42ec",
   "metadata": {},
   "source": [
    "# 1D Arrays"
   ]
  },
  {
   "cell_type": "markdown",
   "id": "8975a742",
   "metadata": {},
   "source": [
    "## Binary Search to Find X\n"
   ]
  },
  {
   "cell_type": "markdown",
   "id": "7d483418",
   "metadata": {},
   "source": [
    "## Implement Lower Bound\n"
   ]
  },
  {
   "cell_type": "markdown",
   "id": "31bec0fd",
   "metadata": {},
   "source": [
    "## Implement Upper Bound\n"
   ]
  },
  {
   "cell_type": "markdown",
   "id": "8f4ec711",
   "metadata": {},
   "source": [
    "## Search Insert Position\n"
   ]
  },
  {
   "cell_type": "markdown",
   "id": "bd04ed0c",
   "metadata": {},
   "source": [
    "## Floor/Ceil in Sorted Array\n"
   ]
  },
  {
   "cell_type": "markdown",
   "id": "703e2cc5",
   "metadata": {},
   "source": [
    "## First/Last Occurrence of Element\n"
   ]
  },
  {
   "cell_type": "markdown",
   "id": "d2730959",
   "metadata": {},
   "source": [
    "## Count Occurrences of a Number\n"
   ]
  },
  {
   "cell_type": "markdown",
   "id": "0fb50647",
   "metadata": {},
   "source": [
    "## Search in Rotated Sorted Array I\n"
   ]
  },
  {
   "cell_type": "markdown",
   "id": "b40ccf15",
   "metadata": {},
   "source": [
    "## Search in Rotated Sorted Array II\n"
   ]
  },
  {
   "cell_type": "markdown",
   "id": "7f5f1415",
   "metadata": {},
   "source": [
    "## Find Minimum in Rotated Sorted Array\n"
   ]
  },
  {
   "cell_type": "markdown",
   "id": "e7b91cf5",
   "metadata": {},
   "source": [
    "## Find Number of Times Array is Rotated\n"
   ]
  },
  {
   "cell_type": "markdown",
   "id": "1f8a516f",
   "metadata": {},
   "source": [
    "## Single Element in a Sorted Array\n"
   ]
  },
  {
   "cell_type": "markdown",
   "id": "0a5647ba",
   "metadata": {},
   "source": [
    "## Find Peak Element"
   ]
  },
  {
   "cell_type": "markdown",
   "id": "ac1c01b3",
   "metadata": {},
   "source": [
    "# Binary Search on Answers"
   ]
  },
  {
   "cell_type": "markdown",
   "id": "0862bb9d",
   "metadata": {},
   "source": [
    "## Square Root (log N)\n"
   ]
  },
  {
   "cell_type": "markdown",
   "id": "3baaed7c",
   "metadata": {},
   "source": [
    "## Nth Root Using Binary Search\n"
   ]
  },
  {
   "cell_type": "markdown",
   "id": "698f4d63",
   "metadata": {},
   "source": [
    "## Koko Eating Bananas\n"
   ]
  },
  {
   "cell_type": "markdown",
   "id": "0b15633d",
   "metadata": {},
   "source": [
    "## Minimum Days to Make M Bouquets\n"
   ]
  },
  {
   "cell_type": "markdown",
   "id": "9341f74c",
   "metadata": {},
   "source": [
    "## Smallest Divisor\n"
   ]
  },
  {
   "cell_type": "markdown",
   "id": "e2e16a97",
   "metadata": {},
   "source": [
    "## Capacity to Ship Packages Within D Days\n"
   ]
  },
  {
   "cell_type": "markdown",
   "id": "95997826",
   "metadata": {},
   "source": [
    "## Kth Missing Positive Number\n"
   ]
  },
  {
   "cell_type": "markdown",
   "id": "e9be3352",
   "metadata": {},
   "source": [
    "## Aggressive Cows\n"
   ]
  },
  {
   "cell_type": "markdown",
   "id": "8bc6dd14",
   "metadata": {},
   "source": [
    "## Book Allocation Problem\n"
   ]
  },
  {
   "cell_type": "markdown",
   "id": "e46604cc",
   "metadata": {},
   "source": [
    "## Split Array - Largest Sum\n"
   ]
  },
  {
   "cell_type": "markdown",
   "id": "c87b30f7",
   "metadata": {},
   "source": [
    "## Painter’s Partition\n"
   ]
  },
  {
   "cell_type": "markdown",
   "id": "4a4f5283",
   "metadata": {},
   "source": [
    "## Minimize Max Distance to Gas Station\n"
   ]
  },
  {
   "cell_type": "markdown",
   "id": "477130ca",
   "metadata": {},
   "source": [
    "## Median of Two Sorted Arrays\n"
   ]
  },
  {
   "cell_type": "markdown",
   "id": "e94b4c24",
   "metadata": {},
   "source": [
    "## Kth Element of Two Sorted Arrays"
   ]
  },
  {
   "cell_type": "markdown",
   "id": "070db44d",
   "metadata": {},
   "source": [
    "# 2D Arrays"
   ]
  },
  {
   "cell_type": "markdown",
   "id": "dd6ab4f1",
   "metadata": {},
   "source": [
    "## Row with Maximum 1s\n"
   ]
  },
  {
   "cell_type": "markdown",
   "id": "6bbc582c",
   "metadata": {},
   "source": [
    "## Search in 2D Matrix\n"
   ]
  },
  {
   "cell_type": "markdown",
   "id": "67aed429",
   "metadata": {},
   "source": [
    "## Search in Row-Column Sorted Matrix\n"
   ]
  },
  {
   "cell_type": "markdown",
   "id": "42778b80",
   "metadata": {},
   "source": [
    "## 2D Peak Element\n"
   ]
  },
  {
   "cell_type": "markdown",
   "id": "0e787c99",
   "metadata": {},
   "source": [
    "## Matrix Median"
   ]
  }
 ],
 "metadata": {
  "language_info": {
   "name": "python"
  }
 },
 "nbformat": 4,
 "nbformat_minor": 5
}
