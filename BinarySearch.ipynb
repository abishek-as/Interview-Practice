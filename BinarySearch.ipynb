{
 "cells": [
  {
   "cell_type": "code",
   "execution_count": 1,
   "id": "d5d13258",
   "metadata": {},
   "outputs": [],
   "source": [
    "from typing import List\n"
   ]
  },
  {
   "cell_type": "markdown",
   "id": "682b42ec",
   "metadata": {},
   "source": [
    "# 1D Arrays"
   ]
  },
  {
   "cell_type": "markdown",
   "id": "8975a742",
   "metadata": {},
   "source": [
    "## Binary Search to Find X\n"
   ]
  },
  {
   "cell_type": "markdown",
   "id": "dfa5ee6b",
   "metadata": {},
   "source": [
    "#### 1. ❓ Question\n",
    "\n",
    "You are given a sorted integer array `nums` and an integer `target`. Perform binary search to find the target’s index. If not found, return `-1`.\n",
    "\n",
    "---\n",
    "\n",
    "#### 2. 🔍 Sample Test Cases\n",
    "\n",
    "#### ✅ Positive Case\n",
    "\n",
    "```python\n",
    "Input: nums = [-10, -3, 0, 5, 9], target = 9  \n",
    "Output: 4  \n",
    "Explanation: 9 is at index 4\n",
    "```\n",
    "\n",
    "#### ❌ Negative Case\n",
    "\n",
    "```python\n",
    "Input: nums = [-10, -3, 0, 5, 9], target = 4  \n",
    "Output: -1  \n",
    "Explanation: 4 is not present in the array\n",
    "```\n",
    "\n",
    "#### 🧨 Edge Case\n",
    "\n",
    "```python\n",
    "Input: nums = [1], target = 1  \n",
    "Output: 0  \n",
    "Explanation: Only one element and it matches\n",
    "```\n",
    "\n",
    "---\n",
    "\n",
    "#### 3. 🚀 Optimized Approach\n",
    "\n",
    "#### ✅ Intuition\n",
    "\n",
    "Since the array is **sorted**, we can use **binary search** which divides the array in half each time — achieving `O(log n)` time complexity.\n",
    "\n",
    "#### ✅ Step-by-Step Explanation\n",
    "\n",
    "1. Set `left = 0` and `right = len(nums) - 1`\n",
    "2. While `left <= right`:\n",
    "\n",
    "   * Compute `mid = (left + right) // 2`\n",
    "   * If `nums[mid] == target`, return `mid`\n",
    "   * If `target < nums[mid]`, search the left half (`right = mid - 1`)\n",
    "   * Else, search the right half (`left = mid + 1`)\n",
    "3. If not found, return `-1`\n",
    "\n",
    "#### ✅ Time & Space Complexity\n",
    "\n",
    "* **Time Complexity:** `O(log n)`\n",
    "* **Space Complexity:** `O(1)` — Iterative approach uses constant space\n",
    "\n",
    "---\n",
    "\n",
    "### 4. ✅ Optimized Code\n"
   ]
  },
  {
   "cell_type": "code",
   "execution_count": 2,
   "id": "bd162cfe",
   "metadata": {},
   "outputs": [
    {
     "name": "stdout",
     "output_type": "stream",
     "text": [
      "Input: nums = [-10, -3, 0, 5, 9], target = 9\n",
      "Output: 4\n",
      "Input: nums = [-10, -3, 0, 5, 9], target = 4\n",
      "Output: -1\n",
      "Input: nums = [1], target = 1\n",
      "Output: 0\n"
     ]
    }
   ],
   "source": [
    "class Solution:\n",
    "    def search(self, nums: List[int], target: int) -> int:\n",
    "        \"\"\"\n",
    "        Perform binary search to find the index of `target` in a sorted list `nums`.\n",
    "        Returns -1 if not found.\n",
    "        \"\"\"\n",
    "        left: int = 0\n",
    "        right: int = len(nums) - 1\n",
    "\n",
    "        while left <= right:\n",
    "            mid: int = (left + right) // 2\n",
    "\n",
    "            # ✅ If target is found at mid\n",
    "            if nums[mid] == target:\n",
    "                return mid\n",
    "            \n",
    "            # 🔍 If target is smaller, search in the left half\n",
    "            elif target < nums[mid]:\n",
    "                right = mid - 1\n",
    "            \n",
    "            # 🔍 If target is greater, search in the right half\n",
    "            else:\n",
    "                left = mid + 1\n",
    "\n",
    "        # ❌ If target not found\n",
    "        return -1\n",
    "\n",
    "# 5. 🔁 Sample Input/Output Examples with Explanation\n",
    "\n",
    "sol = Solution()\n",
    "\n",
    "print(\"Input: nums = [-10, -3, 0, 5, 9], target = 9\")\n",
    "print(\n",
    "    \"Output:\", sol.search([-10, -3, 0, 5, 9], 9)\n",
    ")  # Explanation: 9 is found at index 4\n",
    "\n",
    "print(\"Input: nums = [-10, -3, 0, 5, 9], target = 4\")\n",
    "print(\n",
    "    \"Output:\", sol.search([-10, -3, 0, 5, 9], 4)\n",
    ")  # Explanation: 4 is not present, return -1\n",
    "\n",
    "print(\"Input: nums = [1], target = 1\")\n",
    "print(\n",
    "    \"Output:\", sol.search([1], 1)\n",
    ")  # Explanation: Single element matches, return index 0"
   ]
  },
  {
   "cell_type": "markdown",
   "id": "7d483418",
   "metadata": {},
   "source": [
    "## Implement Lower Bound\n"
   ]
  },
  {
   "cell_type": "markdown",
   "id": "31bec0fd",
   "metadata": {},
   "source": [
    "## Implement Upper Bound\n"
   ]
  },
  {
   "cell_type": "markdown",
   "id": "8f4ec711",
   "metadata": {},
   "source": [
    "## Search Insert Position\n"
   ]
  },
  {
   "cell_type": "markdown",
   "id": "bd04ed0c",
   "metadata": {},
   "source": [
    "## Floor/Ceil in Sorted Array\n"
   ]
  },
  {
   "cell_type": "markdown",
   "id": "703e2cc5",
   "metadata": {},
   "source": [
    "## First/Last Occurrence of Element\n"
   ]
  },
  {
   "cell_type": "markdown",
   "id": "d2730959",
   "metadata": {},
   "source": [
    "## Count Occurrences of a Number\n"
   ]
  },
  {
   "cell_type": "markdown",
   "id": "0fb50647",
   "metadata": {},
   "source": [
    "## Search in Rotated Sorted Array I\n"
   ]
  },
  {
   "cell_type": "markdown",
   "id": "b40ccf15",
   "metadata": {},
   "source": [
    "## Search in Rotated Sorted Array II\n"
   ]
  },
  {
   "cell_type": "markdown",
   "id": "7f5f1415",
   "metadata": {},
   "source": [
    "## Find Minimum in Rotated Sorted Array\n"
   ]
  },
  {
   "cell_type": "markdown",
   "id": "e7b91cf5",
   "metadata": {},
   "source": [
    "## Find Number of Times Array is Rotated\n"
   ]
  },
  {
   "cell_type": "markdown",
   "id": "1f8a516f",
   "metadata": {},
   "source": [
    "## Single Element in a Sorted Array\n"
   ]
  },
  {
   "cell_type": "markdown",
   "id": "0a5647ba",
   "metadata": {},
   "source": [
    "## Find Peak Element"
   ]
  },
  {
   "cell_type": "markdown",
   "id": "ac1c01b3",
   "metadata": {},
   "source": [
    "# Binary Search on Answers"
   ]
  },
  {
   "cell_type": "markdown",
   "id": "0862bb9d",
   "metadata": {},
   "source": [
    "## Square Root (log N)\n"
   ]
  },
  {
   "cell_type": "markdown",
   "id": "3baaed7c",
   "metadata": {},
   "source": [
    "## Nth Root Using Binary Search\n"
   ]
  },
  {
   "cell_type": "markdown",
   "id": "698f4d63",
   "metadata": {},
   "source": [
    "## Koko Eating Bananas\n"
   ]
  },
  {
   "cell_type": "markdown",
   "id": "0b15633d",
   "metadata": {},
   "source": [
    "## Minimum Days to Make M Bouquets\n"
   ]
  },
  {
   "cell_type": "markdown",
   "id": "9341f74c",
   "metadata": {},
   "source": [
    "## Smallest Divisor\n"
   ]
  },
  {
   "cell_type": "markdown",
   "id": "e2e16a97",
   "metadata": {},
   "source": [
    "## Capacity to Ship Packages Within D Days\n"
   ]
  },
  {
   "cell_type": "markdown",
   "id": "95997826",
   "metadata": {},
   "source": [
    "## Kth Missing Positive Number\n"
   ]
  },
  {
   "cell_type": "markdown",
   "id": "e9be3352",
   "metadata": {},
   "source": [
    "## Aggressive Cows\n"
   ]
  },
  {
   "cell_type": "markdown",
   "id": "8bc6dd14",
   "metadata": {},
   "source": [
    "## Book Allocation Problem\n"
   ]
  },
  {
   "cell_type": "markdown",
   "id": "e46604cc",
   "metadata": {},
   "source": [
    "## Split Array - Largest Sum\n"
   ]
  },
  {
   "cell_type": "markdown",
   "id": "c87b30f7",
   "metadata": {},
   "source": [
    "## Painter’s Partition\n"
   ]
  },
  {
   "cell_type": "markdown",
   "id": "4a4f5283",
   "metadata": {},
   "source": [
    "## Minimize Max Distance to Gas Station\n"
   ]
  },
  {
   "cell_type": "markdown",
   "id": "477130ca",
   "metadata": {},
   "source": [
    "## Median of Two Sorted Arrays\n"
   ]
  },
  {
   "cell_type": "markdown",
   "id": "e94b4c24",
   "metadata": {},
   "source": [
    "## Kth Element of Two Sorted Arrays"
   ]
  },
  {
   "cell_type": "markdown",
   "id": "070db44d",
   "metadata": {},
   "source": [
    "# 2D Arrays"
   ]
  },
  {
   "cell_type": "markdown",
   "id": "dd6ab4f1",
   "metadata": {},
   "source": [
    "## Row with Maximum 1s\n"
   ]
  },
  {
   "cell_type": "markdown",
   "id": "6bbc582c",
   "metadata": {},
   "source": [
    "## Search in 2D Matrix\n"
   ]
  },
  {
   "cell_type": "markdown",
   "id": "67aed429",
   "metadata": {},
   "source": [
    "## Search in Row-Column Sorted Matrix\n"
   ]
  },
  {
   "cell_type": "markdown",
   "id": "42778b80",
   "metadata": {},
   "source": [
    "## 2D Peak Element\n"
   ]
  },
  {
   "cell_type": "markdown",
   "id": "0e787c99",
   "metadata": {},
   "source": [
    "## Matrix Median"
   ]
  }
 ],
 "metadata": {
  "kernelspec": {
   "display_name": ".venv",
   "language": "python",
   "name": "python3"
  },
  "language_info": {
   "codemirror_mode": {
    "name": "ipython",
    "version": 3
   },
   "file_extension": ".py",
   "mimetype": "text/x-python",
   "name": "python",
   "nbconvert_exporter": "python",
   "pygments_lexer": "ipython3",
   "version": "3.13.5"
  }
 },
 "nbformat": 4,
 "nbformat_minor": 5
}
