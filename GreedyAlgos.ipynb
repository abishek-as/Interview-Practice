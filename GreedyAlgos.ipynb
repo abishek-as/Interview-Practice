{
 "cells": [
  {
   "cell_type": "markdown",
   "id": "49fecfa8",
   "metadata": {},
   "source": [
    "# Assign Cookies\n"
   ]
  },
  {
   "cell_type": "markdown",
   "id": "1ae910fa",
   "metadata": {},
   "source": [
    "# Fractional Knapsack\n"
   ]
  },
  {
   "cell_type": "markdown",
   "id": "dc56497a",
   "metadata": {},
   "source": [
    "# Minimum Number of Coins\n"
   ]
  },
  {
   "cell_type": "markdown",
   "id": "0834a900",
   "metadata": {},
   "source": [
    "# Lemonade Change\n"
   ]
  },
  {
   "cell_type": "markdown",
   "id": "b664ceb1",
   "metadata": {},
   "source": [
    "# Valid Parenthesis Checker\n"
   ]
  },
  {
   "cell_type": "markdown",
   "id": "bd17395b",
   "metadata": {},
   "source": [
    "# N Meetings in One Room\n"
   ]
  },
  {
   "cell_type": "markdown",
   "id": "2038b9ee",
   "metadata": {},
   "source": [
    "# Jump Game I, II\n"
   ]
  },
  {
   "cell_type": "markdown",
   "id": "a1391273",
   "metadata": {},
   "source": [
    "# Minimum Platforms Needed\n"
   ]
  },
  {
   "cell_type": "markdown",
   "id": "a4f44018",
   "metadata": {},
   "source": [
    "# Job Sequencing Problem\n"
   ]
  },
  {
   "cell_type": "markdown",
   "id": "589dfe75",
   "metadata": {},
   "source": [
    "# Candy Distribution\n"
   ]
  },
  {
   "cell_type": "markdown",
   "id": "d643649a",
   "metadata": {},
   "source": [
    "# SJF CPU Scheduling\n"
   ]
  },
  {
   "cell_type": "markdown",
   "id": "88af8cd0",
   "metadata": {},
   "source": [
    "# LRU Page Replacement\n"
   ]
  },
  {
   "cell_type": "markdown",
   "id": "dab2a35f",
   "metadata": {},
   "source": [
    "# Insert Interval\n"
   ]
  },
  {
   "cell_type": "markdown",
   "id": "56408d27",
   "metadata": {},
   "source": [
    "# Merge Intervals\n"
   ]
  },
  {
   "cell_type": "markdown",
   "id": "6a3fdefb",
   "metadata": {},
   "source": [
    "# Non-overlapping Intervals"
   ]
  }
 ],
 "metadata": {
  "language_info": {
   "name": "python"
  }
 },
 "nbformat": 4,
 "nbformat_minor": 5
}
