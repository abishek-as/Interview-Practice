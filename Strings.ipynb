{
 "cells": [
  {
   "cell_type": "markdown",
   "id": "4664844f",
   "metadata": {},
   "source": [
    "# Remove Outermost Parenthesis"
   ]
  },
  {
   "cell_type": "markdown",
   "id": "d0299ba8",
   "metadata": {},
   "source": [
    "# Reverse Words in a String / Palindrome Check\n"
   ]
  },
  {
   "cell_type": "markdown",
   "id": "3ca94fe8",
   "metadata": {},
   "source": [
    "# Largest Odd Number in a String\n"
   ]
  },
  {
   "cell_type": "markdown",
   "id": "dde7fc07",
   "metadata": {},
   "source": [
    "# Longest Common Prefix\n"
   ]
  },
  {
   "cell_type": "markdown",
   "id": "dbb47bad",
   "metadata": {},
   "source": [
    "# Isomorphic Strings\n"
   ]
  },
  {
   "cell_type": "markdown",
   "id": "e9bab159",
   "metadata": {},
   "source": [
    "# Check if One String is Rotation of Another\n"
   ]
  },
  {
   "cell_type": "markdown",
   "id": "68529d35",
   "metadata": {},
   "source": [
    "# Check if Two Strings are Anagram"
   ]
  },
  {
   "cell_type": "markdown",
   "id": "72b5bd60",
   "metadata": {},
   "source": [
    "# Sort Characters by Frequency\n"
   ]
  },
  {
   "cell_type": "markdown",
   "id": "3d39b770",
   "metadata": {},
   "source": [
    "# Maximum Nesting Depth of Parenthesis\n"
   ]
  },
  {
   "cell_type": "markdown",
   "id": "c449bba4",
   "metadata": {},
   "source": [
    "# Roman Numerals to Integer and Vice Versa\n"
   ]
  },
  {
   "cell_type": "markdown",
   "id": "79a39b66",
   "metadata": {},
   "source": [
    "# Implement Atoi\n"
   ]
  },
  {
   "cell_type": "markdown",
   "id": "e414776d",
   "metadata": {},
   "source": [
    "# Count Number of Substrings\n"
   ]
  },
  {
   "cell_type": "markdown",
   "id": "9314ee4b",
   "metadata": {},
   "source": [
    "# Longest Palindromic Substring (Without DP)\n"
   ]
  },
  {
   "cell_type": "markdown",
   "id": "59d4ece0",
   "metadata": {},
   "source": [
    "# Sum of Beauty of All Substrings\n"
   ]
  },
  {
   "cell_type": "markdown",
   "id": "6be1da5b",
   "metadata": {},
   "source": [
    "# Reverse Every Word in a String\n"
   ]
  },
  {
   "cell_type": "markdown",
   "id": "797b672e",
   "metadata": {},
   "source": [
    "# Min Bracket Reversals to Balance Expression"
   ]
  },
  {
   "cell_type": "markdown",
   "id": "760fcf25",
   "metadata": {},
   "source": [
    "# Count and Say\n",
    " "
   ]
  },
  {
   "cell_type": "markdown",
   "id": "058cfc52",
   "metadata": {},
   "source": [
    "# Hashing in Strings (Theory)"
   ]
  },
  {
   "cell_type": "markdown",
   "id": "f7979fc0",
   "metadata": {},
   "source": [
    "# Rabin Karp Algorithm"
   ]
  },
  {
   "cell_type": "markdown",
   "id": "84bf0945",
   "metadata": {},
   "source": [
    "# Z-Function"
   ]
  },
  {
   "cell_type": "markdown",
   "id": "1c94f9db",
   "metadata": {},
   "source": [
    "# KMP / LPS Array"
   ]
  },
  {
   "cell_type": "markdown",
   "id": "e2aec576",
   "metadata": {},
   "source": [
    "# Shortest Palindrome"
   ]
  },
  {
   "cell_type": "markdown",
   "id": "be2dc7a7",
   "metadata": {},
   "source": [
    "# Longest Happy Prefix"
   ]
  },
  {
   "cell_type": "markdown",
   "id": "e1d1927f",
   "metadata": {},
   "source": [
    "# Count Palindromic Subsequences"
   ]
  }
 ],
 "metadata": {
  "language_info": {
   "name": "python"
  }
 },
 "nbformat": 4,
 "nbformat_minor": 5
}
