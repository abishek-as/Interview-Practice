{
 "cells": [
  {
   "cell_type": "markdown",
   "id": "d0bd8fb6",
   "metadata": {},
   "source": [
    "# Min Heap / Max Heap\n"
   ]
  },
  {
   "cell_type": "markdown",
   "id": "549a6b76",
   "metadata": {},
   "source": [
    "# Check if Array is Min-Heap\n"
   ]
  },
  {
   "cell_type": "markdown",
   "id": "857d7d8c",
   "metadata": {},
   "source": [
    "# Convert Min Heap to Max Heap\n"
   ]
  },
  {
   "cell_type": "markdown",
   "id": "dedb6d1f",
   "metadata": {},
   "source": [
    "# Kth Largest/Smallest Element\n"
   ]
  },
  {
   "cell_type": "markdown",
   "id": "de4a67ba",
   "metadata": {},
   "source": [
    "# Sort K Sorted Array\n"
   ]
  },
  {
   "cell_type": "markdown",
   "id": "ab23ea9a",
   "metadata": {},
   "source": [
    "# Merge M Sorted Lists\n"
   ]
  },
  {
   "cell_type": "markdown",
   "id": "5bd130fc",
   "metadata": {},
   "source": [
    "# Replace Element by Its Rank\n"
   ]
  },
  {
   "cell_type": "markdown",
   "id": "bdf79ff2",
   "metadata": {},
   "source": [
    "# Task Scheduler\n"
   ]
  },
  {
   "cell_type": "markdown",
   "id": "7ac3ca0c",
   "metadata": {},
   "source": [
    "# Hands of Straights\n"
   ]
  },
  {
   "cell_type": "markdown",
   "id": "11e60a4c",
   "metadata": {},
   "source": [
    "# Design Twitter\n"
   ]
  },
  {
   "cell_type": "markdown",
   "metadata": {},
   "source": [
    "# Connect N Ropes (Min Cost)\n"
   ]
  },
  {
   "cell_type": "markdown",
   "id": "2a61755b",
   "metadata": {},
   "source": [
    "# Kth Largest in Stream\n"
   ]
  },
  {
   "cell_type": "markdown",
   "id": "09b1393d",
   "metadata": {},
   "source": [
    "# Max Sum Combinations\n"
   ]
  },
  {
   "cell_type": "markdown",
   "id": "87176f7d",
   "metadata": {},
   "source": [
    "# Median from Data Stream\n"
   ]
  },
  {
   "cell_type": "markdown",
   "id": "f3a2369b",
   "metadata": {},
   "source": [
    "# K Most Frequent Elements"
   ]
  }
 ],
 "metadata": {
  "language_info": {
   "name": "python"
  }
 },
 "nbformat": 4,
 "nbformat_minor": 5
}
