{
 "cells": [
  {
   "cell_type": "markdown",
   "id": "5168ad4d",
   "metadata": {},
   "source": [
    "# Introduction to DP"
   ]
  },
  {
   "cell_type": "markdown",
   "id": "3ea811b8",
   "metadata": {},
   "source": [
    "## Dynamic Programming Introduction"
   ]
  },
  {
   "cell_type": "markdown",
   "id": "1755c62e",
   "metadata": {},
   "source": [
    "# 1D DP"
   ]
  },
  {
   "cell_type": "markdown",
   "metadata": {},
   "source": [
    "## Climbing Stairs\n"
   ]
  },
  {
   "cell_type": "markdown",
   "id": "eccaf0c1",
   "metadata": {},
   "source": [
    "## Frog Jump (DP-3)\n"
   ]
  },
  {
   "cell_type": "markdown",
   "id": "6fb7d061",
   "metadata": {},
   "source": [
    "## Frog Jump with K Distances (DP-4)\n"
   ]
  },
  {
   "cell_type": "markdown",
   "metadata": {},
   "source": [
    "## Max Sum of Non-Adjacent Elements (DP-5)\n"
   ]
  },
  {
   "cell_type": "markdown",
   "id": "1bbcb75c",
   "metadata": {},
   "source": [
    "## House Robber (DP-6)"
   ]
  },
  {
   "cell_type": "markdown",
   "metadata": {},
   "source": [
    "# 2D / 3D DP and Grid Problems"
   ]
  },
  {
   "cell_type": "markdown",
   "id": "daf35c05",
   "metadata": {},
   "source": [
    "## Ninja’s Training (DP-7)\n"
   ]
  },
  {
   "cell_type": "markdown",
   "id": "9802c6d5",
   "metadata": {},
   "source": [
    "## Grid Unique Paths (DP-8)\n"
   ]
  },
  {
   "cell_type": "markdown",
   "id": "945bf230",
   "metadata": {},
   "source": [
    "## Grid Unique Paths II (DP-9)\n"
   ]
  },
  {
   "cell_type": "markdown",
   "id": "9111c47e",
   "metadata": {},
   "source": [
    "## Min Path Sum in Grid (DP-10)\n"
   ]
  },
  {
   "cell_type": "markdown",
   "id": "07acabc7",
   "metadata": {},
   "source": [
    "## Min Path Sum in Triangular Grid (DP-11)\n"
   ]
  },
  {
   "cell_type": "markdown",
   "id": "72f661fd",
   "metadata": {},
   "source": [
    "## Min/Max Falling Path Sum (DP-12)\n"
   ]
  },
  {
   "cell_type": "markdown",
   "id": "8007b9aa",
   "metadata": {},
   "source": [
    "## Ninja and His Friends - 3D DP (DP-13)"
   ]
  },
  {
   "cell_type": "markdown",
   "id": "637e017f",
   "metadata": {},
   "source": [
    "# DP on Subsequences"
   ]
  },
  {
   "cell_type": "markdown",
   "id": "5e69c9b3",
   "metadata": {},
   "source": [
    "## Subset Sum Equal to Target (DP-14)\n"
   ]
  },
  {
   "cell_type": "markdown",
   "id": "704d82bf",
   "metadata": {},
   "source": [
    "## Partition Equal Subset Sum (DP-15)\n"
   ]
  },
  {
   "cell_type": "markdown",
   "id": "28b0e731",
   "metadata": {},
   "source": [
    "## Min Abs Difference Between Subset Sums (DP-16)\n"
   ]
  },
  {
   "cell_type": "markdown",
   "id": "b6813e6e",
   "metadata": {},
   "source": [
    "## Count Subsets with Sum K (DP-17)\n"
   ]
  },
  {
   "cell_type": "markdown",
   "id": "c142fc55",
   "metadata": {},
   "source": [
    "## Count Partitions with Given Difference (DP-18)\n"
   ]
  },
  {
   "cell_type": "markdown",
   "id": "cf5ebd31",
   "metadata": {},
   "source": [
    "## Assign Cookies\n"
   ]
  },
  {
   "cell_type": "markdown",
   "id": "be328ff5",
   "metadata": {},
   "source": [
    "## Minimum Coins (DP-20)\n"
   ]
  },
  {
   "cell_type": "markdown",
   "id": "6ef605a2",
   "metadata": {},
   "source": [
    "## Target Sum (DP-21)\n"
   ]
  },
  {
   "cell_type": "markdown",
   "id": "eba59bde",
   "metadata": {},
   "source": [
    "## Coin Change II (DP-22)\n"
   ]
  },
  {
   "cell_type": "markdown",
   "id": "b6a5f059",
   "metadata": {},
   "source": [
    "## Unbounded Knapsack (DP-23)\n"
   ]
  },
  {
   "cell_type": "markdown",
   "id": "ebb34c59",
   "metadata": {},
   "source": [
    "## Rod Cutting Problem (DP-24)"
   ]
  },
  {
   "cell_type": "markdown",
   "id": "1204d22f",
   "metadata": {},
   "source": [
    "# DP on Strings"
   ]
  },
  {
   "cell_type": "markdown",
   "id": "732a6069",
   "metadata": {},
   "source": [
    "## Longest Common Subsequence (DP-25)\n"
   ]
  },
  {
   "cell_type": "markdown",
   "id": "3783ee3e",
   "metadata": {},
   "source": [
    "## Print LCS (DP-26)\n"
   ]
  },
  {
   "cell_type": "markdown",
   "id": "ce0acd9f",
   "metadata": {},
   "source": [
    "## Longest Common Substring (DP-27)\n"
   ]
  },
  {
   "cell_type": "markdown",
   "id": "2c1343d9",
   "metadata": {},
   "source": [
    "## Longest Palindromic Subsequence (DP-28)\n"
   ]
  },
  {
   "cell_type": "markdown",
   "id": "c8112a2b",
   "metadata": {},
   "source": [
    "## Min Insertions to Make String Palindrome (DP-29)\n"
   ]
  },
  {
   "cell_type": "markdown",
   "id": "4908ade9",
   "metadata": {},
   "source": [
    "## Min Insertions/Deletions to Convert String (DP-30)\n"
   ]
  },
  {
   "cell_type": "markdown",
   "id": "587b97a5",
   "metadata": {},
   "source": [
    "## Shortest Common Supersequence (DP-31)\n"
   ]
  },
  {
   "cell_type": "markdown",
   "id": "d2004e2f",
   "metadata": {},
   "source": [
    "## Distinct Subsequences (DP-32)\n"
   ]
  },
  {
   "cell_type": "markdown",
   "id": "0cf4e2b1",
   "metadata": {},
   "source": [
    "## Edit Distance (DP-33)\n"
   ]
  },
  {
   "cell_type": "markdown",
   "id": "48fb71e1",
   "metadata": {},
   "source": [
    "## Wildcard Matching (DP-34)"
   ]
  },
  {
   "cell_type": "markdown",
   "id": "d006813f",
   "metadata": {},
   "source": [
    "# DP on Stocks"
   ]
  },
  {
   "cell_type": "markdown",
   "id": "bae1ea58",
   "metadata": {},
   "source": [
    "## Buy & Sell Stock III (DP-36)\n"
   ]
  },
  {
   "cell_type": "markdown",
   "id": "6b4e8a51",
   "metadata": {},
   "source": [
    "## Buy & Sell Stock IV (DP-37)\n"
   ]
  },
  {
   "cell_type": "markdown",
   "id": "2741f55f",
   "metadata": {},
   "source": [
    "## Buy & Sell Stock IV (DP-38)\n"
   ]
  },
  {
   "cell_type": "markdown",
   "id": "0e76724e",
   "metadata": {},
   "source": [
    "## Buy & Sell Stocks with Cooldown (DP-39)\n"
   ]
  },
  {
   "cell_type": "markdown",
   "id": "e6ec5844",
   "metadata": {},
   "source": [
    "## Buy & Sell Stocks with Transaction Fee (DP-40)"
   ]
  },
  {
   "cell_type": "markdown",
   "id": "bc1a406b",
   "metadata": {},
   "source": [
    "## Best Time to Buy and Sell Stock (DP-35)\n"
   ]
  },
  {
   "cell_type": "markdown",
   "id": "fbcc808f",
   "metadata": {},
   "source": [
    "# DP on LIS (Longest Increasing Subsequence)"
   ]
  },
  {
   "cell_type": "markdown",
   "id": "522a3213",
   "metadata": {},
   "source": [
    "## Printing LIS (DP-42)\n"
   ]
  },
  {
   "cell_type": "markdown",
   "id": "1a7558c0",
   "metadata": {},
   "source": [
    "## Largest Divisible Subset (DP-43)\n"
   ]
  },
  {
   "cell_type": "markdown",
   "id": "9b2a275e",
   "metadata": {},
   "source": [
    "## Longest String Chain (DP-44)\n"
   ]
  },
  {
   "cell_type": "markdown",
   "id": "4cac0a10",
   "metadata": {},
   "source": [
    "## Longest Bitonic Subsequence (DP-45)\n"
   ]
  },
  {
   "cell_type": "markdown",
   "id": "d809888a",
   "metadata": {},
   "source": [
    "## Number of Longest Increasing Subsequences (DP-46)"
   ]
  },
  {
   "cell_type": "markdown",
   "id": "4787065d",
   "metadata": {},
   "source": [
    "# Matrix Chain Multiplication (MCM) / Partition DP"
   ]
  },
  {
   "cell_type": "markdown",
   "id": "f548e093",
   "metadata": {},
   "source": [
    "## Matrix Chain Multiplication (DP-48)\n"
   ]
  },
  {
   "cell_type": "markdown",
   "id": "de533113",
   "metadata": {},
   "source": [
    "## Matrix Chain Multiplication - Bottom-Up (DP-49)\n"
   ]
  },
  {
   "cell_type": "markdown",
   "id": "66ba0a9a",
   "metadata": {},
   "source": [
    "## Min Cost to Cut a Stick (DP-50)\n"
   ]
  },
  {
   "cell_type": "markdown",
   "metadata": {},
   "source": [
    "## Burst Balloons (DP-51)\n"
   ]
  },
  {
   "cell_type": "markdown",
   "id": "c0c3f16c",
   "metadata": {},
   "source": [
    "## Evaluate Boolean Expression to True (DP-52)\n"
   ]
  },
  {
   "cell_type": "markdown",
   "id": "e1592321",
   "metadata": {},
   "source": [
    "## Palindrome Partitioning II (DP-53)\n"
   ]
  },
  {
   "cell_type": "markdown",
   "id": "cd5bd1a8",
   "metadata": {},
   "source": [
    "## Partition Array for Max Sum (DP-54)"
   ]
  },
  {
   "cell_type": "markdown",
   "id": "5a1f0b5a",
   "metadata": {},
   "source": [
    "# DP on Squares"
   ]
  },
  {
   "cell_type": "markdown",
   "id": "ba79d164",
   "metadata": {},
   "source": [
    "## Max Rectangle Area with All 1s (DP-55)\n",
    "## Count Square Submatrices with All 1s (DP-56)"
   ]
  }
 ],
 "metadata": {
  "language_info": {
   "name": "python"
  }
 },
 "nbformat": 4,
 "nbformat_minor": 5
}
