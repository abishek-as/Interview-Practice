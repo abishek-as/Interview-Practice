{
 "cells": [
  {
   "cell_type": "code",
   "execution_count": 1,
   "id": "d916c25d",
   "metadata": {},
   "outputs": [],
   "source": [
    "class Graph:\n",
    "    def __init__(self, vertices):\n",
    "        self.V = vertices\n",
    "        self.adjacency_list = []\n",
    "        for _ in range(vertices):\n",
    "            self.adjacency_list.append([])\n",
    "\n",
    "    def add_edge(self, u, v):\n",
    "        self.adjacency_list[u].append(v)\n",
    "        self.adjacency_list[v].append(u)\n",
    "\n",
    "    def bfs(self, start_vertex):\n",
    "        visited = [False] * self.V\n",
    "        queue = [0] * self.V\n",
    "        front, rear = 0, 0\n",
    "\n",
    "        visited[start_vertex] = True\n",
    "        queue[rear] = start_vertex\n",
    "        rear += 1\n",
    "\n",
    "        while front < rear:\n",
    "            current_vertex = queue[front]\n",
    "            front += 1\n",
    "            print(current_vertex, end=\" \")\n",
    "            for neighbour in self.adjacency_list[current_vertex]:\n",
    "                if visited[neighbour] is False:\n",
    "                    visited[neighbour] = True\n",
    "                    queue[rear] = neighbour\n",
    "                    rear += 1\n",
    "    \n",
    "    def bfs_short(self, start_vertex):\n",
    "        visited = set()\n",
    "        queue = []"
   ]
  },
  {
   "cell_type": "code",
   "execution_count": 2,
   "id": "dd0c38d9",
   "metadata": {},
   "outputs": [
    {
     "name": "stdout",
     "output_type": "stream",
     "text": [
      "0 1 2 3 4 5 "
     ]
    }
   ],
   "source": [
    "g = Graph(6)\n",
    "g.add_edge(0, 1)\n",
    "g.add_edge(0, 2)\n",
    "g.add_edge(1, 3)\n",
    "g.add_edge(1, 4)\n",
    "g.add_edge(2, 5)\n",
    "g.add_edge(4, 5)\n",
    "\n",
    "g.bfs(0)"
   ]
  },
  {
   "cell_type": "code",
   "execution_count": null,
   "id": "90918ec1",
   "metadata": {},
   "outputs": [
    {
     "name": "stdout",
     "output_type": "stream",
     "text": [
      "n-> 5\n",
      "[[1], [0], [], [4], [3]]\n"
     ]
    }
   ],
   "source": [
    "def adj_matrix_to_list(matrix):\n",
    "    n = len(matrix)\n",
    "    print(\"n->\", n)\n",
    "    adjList = [[] for _ in range(n)]\n",
    "    for i in range(n):\n",
    "        for j in range(n):\n",
    "            if matrix[i][j] == 1 and i != j:\n",
    "                adjList[i].append(j)\n",
    "\n",
    "    return adjList\n",
    "\n",
    "\n",
    "isConnected = [\n",
    "    [1, 1, 0, 0, 0],  # City 0 connected to City 1\n",
    "    [1, 1, 0, 0, 0],  # City 1 connected to City 0\n",
    "    [0, 0, 1, 0, 0],  # City 2 is isolated (only self)\n",
    "    [0, 0, 0, 1, 1],  # City 3 connected to City 4\n",
    "    [0, 0, 0, 1, 1]   # City 4 connected to City 3\n",
    "]\n",
    "\n",
    "print(adj_matrix_to_list(isConnected))"
   ]
  },
  {
   "cell_type": "code",
   "execution_count": 2,
   "id": "6d4a74f9",
   "metadata": {},
   "outputs": [
    {
     "name": "stdout",
     "output_type": "stream",
     "text": [
      "Paid ₹500 using Credit Card.\n",
      "Paid ₹300 using UPI.\n"
     ]
    }
   ],
   "source": [
    "from abc import ABC, abstractmethod\n",
    "\n",
    "# Abstract base class\n",
    "\n",
    "\n",
    "class PaymentMethod(ABC):\n",
    "    @abstractmethod\n",
    "    def pay(self, amount):\n",
    "        pass  # Must be implemented by subclasses\n",
    "\n",
    "# Concrete classes\n",
    "\n",
    "\n",
    "class CreditCardPayment(PaymentMethod):\n",
    "    def pay(self, amount, ):\n",
    "        print(f\"Paid ₹{amount} using Credit Card.\")\n",
    "\n",
    "\n",
    "class UpiPayment(PaymentMethod):\n",
    "    def pay(self, amount):\n",
    "        print(f\"Paid ₹{amount} using UPI.\")\n",
    "\n",
    "# Usage\n",
    "\n",
    "\n",
    "def checkout(payment_obj, amount):\n",
    "    payment_obj.pay(amount)\n",
    "\n",
    "\n",
    "cc = CreditCardPayment()\n",
    "upi = UpiPayment()\n",
    "\n",
    "checkout(cc, 500)   # Paid ₹500 using Credit Card\n",
    "checkout(upi, 300)  # Paid ₹300 using UPI"
   ]
  }
 ],
 "metadata": {
  "kernelspec": {
   "display_name": ".venv",
   "language": "python",
   "name": "python3"
  },
  "language_info": {
   "codemirror_mode": {
    "name": "ipython",
    "version": 3
   },
   "file_extension": ".py",
   "mimetype": "text/x-python",
   "name": "python",
   "nbconvert_exporter": "python",
   "pygments_lexer": "ipython3",
   "version": "3.13.3"
  }
 },
 "nbformat": 4,
 "nbformat_minor": 5
}
