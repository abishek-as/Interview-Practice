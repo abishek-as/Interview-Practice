{
 "cells": [
  {
   "cell_type": "markdown",
   "id": "8b49c67e",
   "metadata": {},
   "source": [
    "# Merge Sort"
   ]
  },
  {
   "cell_type": "markdown",
   "id": "8ba03972",
   "metadata": {},
   "source": [
    "🔍 Intuition\n",
    "\n",
    "Merge Sort is a classic divide and conquer algorithm. It recursively divides the array into halves until each subarray has one element, then merges them back in sorted order.\n",
    "\n",
    "⸻\n",
    "\n",
    "🧠 Explanation\n",
    "- Split the array into two halves.\n",
    "- Recursively sort both halves.\n",
    "- Merge the sorted halves.\n",
    "\n",
    "⸻\n",
    "\n",
    "🧠 Time and Space Complexity\n",
    "- Time: O(n log n)\n",
    "- Space: O(n) (due to the temporary arrays created during merging)"
   ]
  },
  {
   "cell_type": "code",
   "execution_count": 1,
   "id": "ccad3ffe",
   "metadata": {},
   "outputs": [
    {
     "name": "stdout",
     "output_type": "stream",
     "text": [
      "[1, 2, 3, 5]\n",
      "[5, 6, 7, 8, 9]\n",
      "[1]\n",
      "[]\n"
     ]
    }
   ],
   "source": [
    "def merge_sort(arr):\n",
    "    # Base case: if the array has 1 or no elements, it's already sorted\n",
    "    if len(arr) <= 1:\n",
    "        return arr\n",
    "\n",
    "    # Step 1: Divide - Find the middle point and split\n",
    "    mid = len(arr) // 2\n",
    "    left_half = merge_sort(arr[:mid])  # Sort left half\n",
    "    right_half = merge_sort(arr[mid:])  # Sort right half\n",
    "\n",
    "    # Step 2: Conquer - Merge sorted halves\n",
    "    return merge(left_half, right_half)\n",
    "\n",
    "\n",
    "def merge(left, right):\n",
    "    result = []  # Final merged sorted array\n",
    "    i = j = 0  # Pointers for both halves\n",
    "\n",
    "    # Compare elements from both halves and append the smaller one\n",
    "    while i < len(left) and j < len(right):\n",
    "        if left[i] <= right[j]:\n",
    "            result.append(left[i])\n",
    "            i += 1\n",
    "        else:\n",
    "            result.append(right[j])\n",
    "            j += 1\n",
    "\n",
    "    # Append remaining elements from either half\n",
    "    result.extend(left[i:])\n",
    "    result.extend(right[j:])\n",
    "    return result\n",
    "\n",
    "\n",
    "print(merge_sort([5, 2, 3, 1]))        # Output: [1, 2, 3, 5]\n",
    "print(merge_sort([9, 8, 7, 6, 5]))     # Output: [5, 6, 7, 8, 9]\n",
    "print(merge_sort([1]))                # Output: [1]\n",
    "print(merge_sort([]))                 # Output: []"
   ]
  },
  {
   "cell_type": "markdown",
   "id": "bb6314f0",
   "metadata": {},
   "source": [
    "# Quick Sort"
   ]
  },
  {
   "cell_type": "markdown",
   "id": "95f697cc",
   "metadata": {},
   "source": [
    "🔍 Intuition\n",
    "\n",
    "Quick Sort uses divide and conquer by picking a pivot and partitioning the array such that:\n",
    "- Elements < pivot come before it\n",
    "- Elements > pivot come after it\n",
    "\n",
    "⸻\n",
    "\n",
    "🧠 Explanation\n",
    "- Choose a pivot (commonly last element).\n",
    "- Rearrange elements so smaller ones are left of pivot, larger on right.\n",
    "- Recursively apply this logic to subarrays.\n",
    "\n",
    "⸻\n",
    "\n",
    "🧠 Time and Space Complexity\n",
    "- Time: O(n log n) average, O(n²) worst (rare with good pivot)\n",
    "- Space: O(log n) for recursion stack (in-place sort)"
   ]
  },
  {
   "cell_type": "code",
   "execution_count": 2,
   "id": "6ffad144",
   "metadata": {},
   "outputs": [
    {
     "name": "stdout",
     "output_type": "stream",
     "text": [
      "[1, 2, 3, 4, 7]\n",
      "[5, 5, 5, 5]\n",
      "[-1, 0, 3, 10]\n"
     ]
    }
   ],
   "source": [
    "def quick_sort(arr):\n",
    "    # Helper function to sort using recursion\n",
    "    def quick_sort_helper(start, end):\n",
    "        if start >= end:\n",
    "            return\n",
    "\n",
    "        # Partitioning and getting pivot index\n",
    "        pivot_index = partition(start, end)\n",
    "\n",
    "        # Sort elements before and after pivot\n",
    "        quick_sort_helper(start, pivot_index - 1)\n",
    "        quick_sort_helper(pivot_index + 1, end)\n",
    "\n",
    "    # Partition function to place pivot correctly\n",
    "    def partition(start, end):\n",
    "        pivot = arr[end]  # Use last element as pivot\n",
    "        i = start - 1  # Index for placing smaller elements\n",
    "\n",
    "        for j in range(start, end):\n",
    "            if arr[j] <= pivot:\n",
    "                i += 1\n",
    "                arr[i], arr[j] = arr[j], arr[i]  # Swap to left partition\n",
    "\n",
    "        # Place pivot at correct sorted position\n",
    "        arr[i + 1], arr[end] = arr[end], arr[i + 1]\n",
    "        return i + 1\n",
    "\n",
    "    quick_sort_helper(0, len(arr) - 1)\n",
    "    return arr\n",
    "\n",
    "\n",
    "print(quick_sort([4, 2, 7, 1, 3]))     # Output: [1, 2, 3, 4, 7]\n",
    "print(quick_sort([5, 5, 5, 5]))        # Output: [5, 5, 5, 5]\n",
    "print(quick_sort([10, -1, 0, 3]))      # Output: [-1, 0, 3, 10]"
   ]
  },
  {
   "cell_type": "markdown",
   "id": "694acf0c",
   "metadata": {},
   "source": [
    "# Heap Sort"
   ]
  },
  {
   "cell_type": "markdown",
   "id": "edf98d07",
   "metadata": {},
   "source": [
    "🔍 Intuition\n",
    "\n",
    "Heap Sort uses a binary heap data structure to sort the elements. We:\n",
    "- Build a max-heap (or min-heap).\n",
    "- Repeatedly extract the largest (root of max-heap) and place it at the end.\n",
    "\n",
    "⸻\n",
    "\n",
    "🧠 Explanation\n",
    "- First, build a max heap from the array.\n",
    "- Swap the first element (largest) with the last element.\n",
    "- Reduce the heap size and heapify again to restore the heap property.\n",
    "- Repeat until the heap is empty.\n",
    "\n",
    "⸻\n",
    "\n",
    "🧠 Time and Space Complexity\n",
    "- Time: O(n log n)\n",
    "- Space: O(1) (in-place sort)\n"
   ]
  },
  {
   "cell_type": "code",
   "execution_count": 3,
   "id": "ad67f794",
   "metadata": {},
   "outputs": [
    {
     "name": "stdout",
     "output_type": "stream",
     "text": [
      "[1, 3, 4, 5, 10]\n",
      "[6, 7, 8, 9]\n",
      "[1, 1, 2, 2]\n"
     ]
    }
   ],
   "source": [
    "def heap_sort(arr):\n",
    "    def heapify(n, i):\n",
    "        largest = i  # Assume current node is the largest\n",
    "        left = 2 * i + 1\n",
    "        right = 2 * i + 2\n",
    "\n",
    "        # Check if left child is greater\n",
    "        if left < n and arr[left] > arr[largest]:\n",
    "            largest = left\n",
    "\n",
    "        # Check if right child is greater\n",
    "        if right < n and arr[right] > arr[largest]:\n",
    "            largest = right\n",
    "\n",
    "        # If largest is not the root, swap and continue heapifying\n",
    "        if largest != i:\n",
    "            arr[i], arr[largest] = arr[largest], arr[i]\n",
    "            heapify(n, largest)  # Recursive heapify\n",
    "\n",
    "    n = len(arr)\n",
    "\n",
    "    # Step 1: Build max heap (start from last non-leaf node)\n",
    "    for i in range(n // 2 - 1, -1, -1):\n",
    "        heapify(n, i)\n",
    "\n",
    "    # Step 2: Extract elements one by one\n",
    "    for i in range(n - 1, 0, -1):\n",
    "        # Swap root with last element\n",
    "        arr[0], arr[i] = arr[i], arr[0]\n",
    "        # Heapify the reduced heap\n",
    "        heapify(i, 0)\n",
    "\n",
    "    return arr\n",
    "\n",
    "\n",
    "print(heap_sort([4, 10, 3, 5, 1]))      # Output: [1, 3, 4, 5, 10]\n",
    "print(heap_sort([9, 8, 7, 6]))          # Output: [6, 7, 8, 9]\n",
    "print(heap_sort([2, 2, 1, 1]))          # Output: [1, 1, 2, 2]"
   ]
  },
  {
   "cell_type": "markdown",
   "id": "2f700666",
   "metadata": {},
   "source": [
    "# Selection sort"
   ]
  },
  {
   "cell_type": "markdown",
   "id": "683fdb66",
   "metadata": {},
   "source": [
    "🔍 Intuition\n",
    "\n",
    "Select the minimum element and place it at the beginning.\n",
    "\n",
    "⸻\n",
    "\n",
    "🧠 Explanation\n",
    "- Iterate and find the minimum in the unsorted part.\n",
    "- Swap it with the beginning of the unsorted part.\n",
    "\n",
    "⸻\n",
    "\n",
    "🧠 Time and Space Complexity\n",
    "- Time: O(n²)\n",
    "- Space: O(1)\n",
    "\n",
    "Not stable by default."
   ]
  },
  {
   "cell_type": "code",
   "execution_count": 4,
   "id": "8d5492f0",
   "metadata": {},
   "outputs": [
    {
     "name": "stdout",
     "output_type": "stream",
     "text": [
      "[11, 12, 22, 25, 64]\n"
     ]
    }
   ],
   "source": [
    "def selection_sort(arr):\n",
    "    n = len(arr)\n",
    "    for i in range(n):\n",
    "        min_idx = i  # Assume the first element is minimum\n",
    "\n",
    "        # Find the actual minimum in the rest of the array\n",
    "        for j in range(i + 1, n):\n",
    "            if arr[j] < arr[min_idx]:\n",
    "                min_idx = j\n",
    "\n",
    "        # Swap found minimum with the first unsorted element\n",
    "        arr[i], arr[min_idx] = arr[min_idx], arr[i]\n",
    "\n",
    "    return arr\n",
    "\n",
    "\n",
    "print(selection_sort([64, 25, 12, 22, 11]))  # Output: [11, 12, 22, 25, 64]"
   ]
  },
  {
   "cell_type": "markdown",
   "id": "439f192d",
   "metadata": {},
   "source": [
    "# Bubble Sort"
   ]
  },
  {
   "cell_type": "markdown",
   "id": "e8a9fa43",
   "metadata": {},
   "source": [
    "🔍 Intuition\n",
    "\n",
    "Bubble Sort repeatedly compares adjacent pairs and swaps them if they are in the wrong order.\n",
    "\n",
    "⸻\n",
    "\n",
    "🧠 Explanation\n",
    "- Compare adjacent elements.\n",
    "- Swap if needed.\n",
    "- Repeat until no swaps are needed.\n",
    "\n",
    "⸻\n",
    "\n",
    "🧠 Time and Space Complexity\n",
    "- Time: O(n²)\n",
    "- Space: O(1)\n",
    "\n",
    "Not efficient — use only for educational understanding."
   ]
  },
  {
   "cell_type": "code",
   "execution_count": 5,
   "id": "3d0da02a",
   "metadata": {},
   "outputs": [
    {
     "name": "stdout",
     "output_type": "stream",
     "text": [
      "[11, 12, 22, 25, 34, 64, 90]\n",
      "[1, 2, 3, 4]\n"
     ]
    }
   ],
   "source": [
    "def bubble_sort(arr):\n",
    "    n = len(arr)\n",
    "    for i in range(n):\n",
    "        swapped = False  # Flag to detect early termination\n",
    "\n",
    "        # Last i elements are already in place\n",
    "        for j in range(0, n - i - 1):\n",
    "            # Swap if elements are in wrong order\n",
    "            if arr[j] > arr[j + 1]:\n",
    "                arr[j], arr[j + 1] = arr[j + 1], arr[j]\n",
    "                swapped = True\n",
    "\n",
    "        if not swapped:\n",
    "            break  # Array already sorted\n",
    "\n",
    "    return arr\n",
    "\n",
    "\n",
    "# Output: [11, 12, 22, 25, 34, 64, 90]\n",
    "print(bubble_sort([64, 34, 25, 12, 22, 11, 90]))\n",
    "print(bubble_sort([1, 2, 3, 4]))                 # Output: [1, 2, 3, 4]"
   ]
  },
  {
   "cell_type": "markdown",
   "id": "a307d647",
   "metadata": {},
   "source": [
    "# Insertion Sort"
   ]
  },
  {
   "cell_type": "markdown",
   "id": "23c66e03",
   "metadata": {},
   "source": [
    "🔍 Intuition\n",
    "\n",
    "Think of sorting cards in hand: take one element and place it in the correct position among the sorted part.\n",
    "\n",
    "⸻\n",
    "\n",
    "🧠 Explanation\n",
    "- Start with the second element.\n",
    "- Compare with elements before it and insert it into the correct position.\n",
    "\n",
    "⸻\n",
    "\n",
    "🧠 Time and Space Complexity\n",
    "- Time: O(n²)\n",
    "- Space: O(1)\n",
    "\n",
    "Efficient for small datasets or nearly sorted arrays."
   ]
  },
  {
   "cell_type": "code",
   "execution_count": 6,
   "id": "4c06229f",
   "metadata": {},
   "outputs": [
    {
     "name": "stdout",
     "output_type": "stream",
     "text": [
      "[5, 6, 11, 12, 13]\n",
      "[1, 2, 3]\n"
     ]
    }
   ],
   "source": [
    "def insertion_sort(arr):\n",
    "    for i in range(1, len(arr)):\n",
    "        key = arr[i]  # Element to insert\n",
    "        j = i - 1\n",
    "\n",
    "        # Move elements greater than key to one position ahead\n",
    "        while j >= 0 and arr[j] > key:\n",
    "            arr[j + 1] = arr[j]\n",
    "            j -= 1\n",
    "\n",
    "        arr[j + 1] = key  # Insert key into correct position\n",
    "\n",
    "    return arr\n",
    "\n",
    "\n",
    "print(insertion_sort([12, 11, 13, 5, 6]))  # Output: [5, 6, 11, 12, 13]\n",
    "print(insertion_sort([1, 2, 3]))           # Output: [1, 2, 3]"
   ]
  },
  {
   "cell_type": "markdown",
   "id": "64f43e46",
   "metadata": {},
   "source": [
    "# Summary Table\n",
    "\n",
    "| Algorithm     | Time Avg  | Time Worst | Space    | Stable | In-place | Use Case                                  |\n",
    "|---------------|-----------|------------|----------|--------|----------|-------------------------------------------|\n",
    "| Merge Sort    | O(n log n)| O(n log n) | O(n)     | ✅     | ❌       | Linked lists, stable sorting              |\n",
    "| Quick Sort    | O(n log n)| O(n²)      | O(log n) | ❌     | ✅       | In-place fast sorting                     |\n",
    "| Heap Sort     | O(n log n)| O(n log n) | O(1)     | ❌     | ✅       | Priority-based sorting                    |\n",
    "| Counting Sort | O(n+k)    | O(n+k)     | O(k)     | ✅     | ❌       | Integer sorting with small range          |\n",
    "| Bubble Sort   | O(n²)     | O(n²)      | O(1)     | ✅     | ✅       | Teaching and educational only             |\n",
    "| Insertion Sort| O(n²)     | O(n²)      | O(1)     | ✅     | ✅       | Nearly sorted or small datasets           |\n",
    "| Selection Sort| O(n²)     | O(n²)      | O(1)     | ❌     | ✅       | Simple implementation, no stability      |\n",
    "| TimSort       | O(n log n)| O(n log n) | O(n)     | ✅     | ❌       | Python’s built-in sort, highly optimized  |"
   ]
  }
 ],
 "metadata": {
  "kernelspec": {
   "display_name": ".venv",
   "language": "python",
   "name": "python3"
  },
  "language_info": {
   "codemirror_mode": {
    "name": "ipython",
    "version": 3
   },
   "file_extension": ".py",
   "mimetype": "text/x-python",
   "name": "python",
   "nbconvert_exporter": "python",
   "pygments_lexer": "ipython3",
   "version": "3.13.3"
  }
 },
 "nbformat": 4,
 "nbformat_minor": 5
}
