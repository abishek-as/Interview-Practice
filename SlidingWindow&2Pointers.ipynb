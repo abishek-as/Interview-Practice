{
 "cells": [
  {
   "cell_type": "markdown",
   "id": "f0eb5c4c",
   "metadata": {},
   "source": [
    "# Longest Substring Without Repeating Characters\n"
   ]
  },
  {
   "cell_type": "markdown",
   "id": "019e93b8",
   "metadata": {},
   "source": [
    "# Max Consecutive Ones III\n"
   ]
  },
  {
   "cell_type": "markdown",
   "id": "4111e9d9",
   "metadata": {},
   "source": [
    "# Fruit Into Baskets\n"
   ]
  },
  {
   "cell_type": "markdown",
   "id": "c561f4a9",
   "metadata": {},
   "source": [
    "# Longest Repeating Character Replacement\n"
   ]
  },
  {
   "cell_type": "markdown",
   "id": "8aca6a3f",
   "metadata": {},
   "source": [
    "# Binary Subarray with Sum\n"
   ]
  },
  {
   "cell_type": "markdown",
   "id": "2eb7f0f1",
   "metadata": {},
   "source": [
    "# Count Nice Subarrays\n"
   ]
  },
  {
   "cell_type": "markdown",
   "id": "fcb292d6",
   "metadata": {},
   "source": [
    "# Substrings Containing All 3 Characters\n"
   ]
  },
  {
   "cell_type": "markdown",
   "id": "8e4b8150",
   "metadata": {},
   "source": [
    "# Max Points from Cards\n"
   ]
  },
  {
   "cell_type": "markdown",
   "id": "672df039",
   "metadata": {},
   "source": [
    "# Longest Substring with At Most K Distinct Characters\n"
   ]
  },
  {
   "cell_type": "markdown",
   "metadata": {},
   "source": [
    "# Subarray with K Different Integers\n"
   ]
  },
  {
   "cell_type": "markdown",
   "id": "54d1e62e",
   "metadata": {},
   "source": [
    "# Minimum Window Substring\n"
   ]
  },
  {
   "cell_type": "markdown",
   "id": "51a958b7",
   "metadata": {},
   "source": [
    "# Minimum Window Subsequence"
   ]
  }
 ],
 "metadata": {
  "language_info": {
   "name": "python"
  }
 },
 "nbformat": 4,
 "nbformat_minor": 5
}
