{
 "cells": [
  {
   "cell_type": "markdown",
   "id": "4cd52b3e",
   "metadata": {},
   "source": [
    "# Basics"
   ]
  },
  {
   "cell_type": "markdown",
   "id": "16e95e39",
   "metadata": {},
   "source": [
    "## Implement Trie | Insert | Search | StartsWith\n"
   ]
  },
  {
   "cell_type": "markdown",
   "id": "0d60796a",
   "metadata": {},
   "source": [
    "## Implement Trie II (Prefix Tree)"
   ]
  },
  {
   "cell_type": "markdown",
   "id": "f1df5507",
   "metadata": {},
   "source": [
    "# Problems on Trie"
   ]
  },
  {
   "cell_type": "markdown",
   "id": "f0026df9",
   "metadata": {},
   "source": [
    "## Longest String with All Prefixes\n"
   ]
  },
  {
   "cell_type": "markdown",
   "id": "59f77573",
   "metadata": {},
   "source": [
    "## Number of Distinct Substrings in a String\n"
   ]
  },
  {
   "cell_type": "markdown",
   "id": "a855dbbb",
   "metadata": {},
   "source": [
    "## Bit Manipulation Prerequisites for Trie Problems\n"
   ]
  },
  {
   "cell_type": "markdown",
   "id": "f6383cfa",
   "metadata": {},
   "source": [
    "## Maximum XOR of Two Numbers in an Array\n"
   ]
  },
  {
   "cell_type": "markdown",
   "id": "561eb8e2",
   "metadata": {},
   "source": [
    "## Maximum XOR with an Element from Another Array"
   ]
  }
 ],
 "metadata": {
  "language_info": {
   "name": "python"
  }
 },
 "nbformat": 4,
 "nbformat_minor": 5
}
