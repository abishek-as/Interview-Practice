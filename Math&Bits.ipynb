{
 "cells": [
  {
   "cell_type": "markdown",
   "id": "f5be3b85",
   "metadata": {},
   "source": [
    "# Bit Manipulation"
   ]
  },
  {
   "cell_type": "markdown",
   "id": "b072bcab",
   "metadata": {},
   "source": [
    "## Check Power of 2"
   ]
  },
  {
   "cell_type": "markdown",
   "id": "84150450",
   "metadata": {},
   "source": [
    "## Divide Two Integers Without *, /, %\n"
   ]
  },
  {
   "cell_type": "markdown",
   "id": "e43eaa5d",
   "metadata": {},
   "source": [
    "## Count Bits to Flip A to B\n"
   ]
  },
  {
   "cell_type": "markdown",
   "id": "91b6a011",
   "metadata": {},
   "source": [
    "## Number Appearing Odd Number of Times\n"
   ]
  },
  {
   "cell_type": "markdown",
   "id": "cdc90af7",
   "metadata": {},
   "source": [
    "## Power Set\n"
   ]
  },
  {
   "cell_type": "markdown",
   "id": "38a44086",
   "metadata": {},
   "source": [
    "## XOR from L to R\n"
   ]
  },
  {
   "cell_type": "markdown",
   "id": "64b45c15",
   "metadata": {},
   "source": [
    "## Two Numbers Appearing Odd Times"
   ]
  },
  {
   "cell_type": "markdown",
   "id": "d94e3b68",
   "metadata": {},
   "source": [
    "# Advanced Math"
   ]
  },
  {
   "cell_type": "markdown",
   "id": "bd219904",
   "metadata": {},
   "source": [
    "## Prime Factors of a Number\n"
   ]
  },
  {
   "cell_type": "markdown",
   "id": "60cc178f",
   "metadata": {},
   "source": [
    "## All Divisors of a Number\n"
   ]
  },
  {
   "cell_type": "markdown",
   "id": "caa2224b",
   "metadata": {},
   "source": [
    "## Sieve of Eratosthenes\n"
   ]
  },
  {
   "cell_type": "markdown",
   "id": "1dcebf68",
   "metadata": {},
   "source": [
    "## Prime Factorization using Sieve\n"
   ]
  },
  {
   "cell_type": "markdown",
   "id": "7e1b8098",
   "metadata": {},
   "source": [
    "## Power(n, x)"
   ]
  }
 ],
 "metadata": {
  "language_info": {
   "name": "python"
  }
 },
 "nbformat": 4,
 "nbformat_minor": 5
}
