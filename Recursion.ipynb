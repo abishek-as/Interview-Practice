{
 "cells": [
  {
   "cell_type": "markdown",
   "id": "bfe7d054",
   "metadata": {},
   "source": [
    "# Generate All Binary Strings"
   ]
  },
  {
   "cell_type": "markdown",
   "id": "a3ecebac",
   "metadata": {},
   "source": [
    "# Generate Parentheses\n"
   ]
  },
  {
   "cell_type": "markdown",
   "id": "f0ac892e",
   "metadata": {},
   "source": [
    "# All Subsequences / Power Set\n"
   ]
  },
  {
   "cell_type": "markdown",
   "id": "c234ebfc",
   "metadata": {},
   "source": [
    "# Count Subsequences with Sum K\n"
   ]
  },
  {
   "cell_type": "markdown",
   "id": "329c86d3",
   "metadata": {},
   "source": [
    "# Check Existence of Subsequence with Sum K"
   ]
  },
  {
   "cell_type": "markdown",
   "id": "9c8f1213",
   "metadata": {},
   "source": [
    "# Combination Sum I, II, III\n"
   ]
  },
  {
   "cell_type": "markdown",
   "id": "7903ccaa",
   "metadata": {},
   "source": [
    "# Subset Sum I, II\n"
   ]
  },
  {
   "cell_type": "markdown",
   "id": "bbe59af2",
   "metadata": {},
   "source": [
    "# Letter Combinations of Phone Number\n"
   ]
  },
  {
   "cell_type": "markdown",
   "id": "574fb32c",
   "metadata": {},
   "source": [
    "# Palindrome Partitioning\n"
   ]
  },
  {
   "cell_type": "markdown",
   "id": "74a11e43",
   "metadata": {},
   "source": [
    "# Word Search\n"
   ]
  },
  {
   "cell_type": "markdown",
   "id": "7c6f0a3f",
   "metadata": {},
   "source": [
    "# N Queen Problem\n"
   ]
  },
  {
   "cell_type": "markdown",
   "id": "50831dc9",
   "metadata": {},
   "source": [
    "# Rat in a Maze"
   ]
  },
  {
   "cell_type": "markdown",
   "id": "4781c2f3",
   "metadata": {},
   "source": [
    "# Word Break\n"
   ]
  },
  {
   "cell_type": "markdown",
   "id": "3c429920",
   "metadata": {},
   "source": [
    "# M Coloring Problem\n"
   ]
  },
  {
   "cell_type": "markdown",
   "id": "01c75c8b",
   "metadata": {},
   "source": [
    "# Sudoku Solver\n"
   ]
  },
  {
   "cell_type": "markdown",
   "id": "7627af4f",
   "metadata": {},
   "source": [
    "# Expression Add Operators"
   ]
  }
 ],
 "metadata": {
  "language_info": {
   "name": "python"
  }
 },
 "nbformat": 4,
 "nbformat_minor": 5
}
